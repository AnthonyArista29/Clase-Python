{
  "nbformat": 4,
  "nbformat_minor": 0,
  "metadata": {
    "colab": {
      "provenance": [],
      "include_colab_link": true
    },
    "kernelspec": {
      "name": "python3",
      "display_name": "Python 3"
    },
    "language_info": {
      "name": "python"
    }
  },
  "cells": [
    {
      "cell_type": "markdown",
      "metadata": {
        "id": "view-in-github",
        "colab_type": "text"
      },
      "source": [
        "<a href=\"https://colab.research.google.com/github/AnthonyArista29/Programacion_en_Python_UTEC/blob/main/modulo_1/1.%20Algoritmos_y_Programas.ipynb\" target=\"_parent\"><img src=\"https://colab.research.google.com/assets/colab-badge.svg\" alt=\"Open In Colab\"/></a>"
      ]
    },
    {
      "cell_type": "markdown",
      "source": [
        "<img src=\"https://www.ctic.uni.edu.pe/wp-content/uploads/2022/04/588px-x-348px-web-1.png\" alt=\"HTML5 Icon\" width=\"900\" height=\"350\" >"
      ],
      "metadata": {
        "id": "XWp-1a3HCQoh"
      }
    },
    {
      "cell_type": "markdown",
      "source": [
        "<h1 align=center><font size = 5> Algoritmos y programas\n",
        "</font></h1>\n",
        "\n",
        "---"
      ],
      "metadata": {
        "id": "6bpRTn-4CTwV"
      }
    },
    {
      "cell_type": "markdown",
      "source": [
        "## Objetivo\n",
        "\n",
        "Al final del laboratorio, los estudiantes deberían ser capaces de comprender y aplicar las operaciones básicas de Python en la solución de problemas, entender cómo se pueden usar estos conceptos en aplicaciones prácticas y cotidianas, y sentirse motivados para explorar más sobre la programación y su potencial para facilitar y optimizar tareas y decisiones.\n"
      ],
      "metadata": {
        "id": "yYAqVvD3RHbf"
      }
    },
    {
      "cell_type": "markdown",
      "source": [
        "#Ejercicio 1:"
      ],
      "metadata": {
        "id": "aRzqyeNfCcPm"
      }
    },
    {
      "cell_type": "markdown",
      "source": [
        "\n",
        "\n",
        "**Sumar Dos Números**\n",
        "\n",
        "Algoritmo:\n",
        "\n",
        "* Obtener dos números.\n",
        "* Sumar los dos números.\n",
        "* Mostrar el resultado."
      ],
      "metadata": {
        "id": "x0CFZxg1_uFy"
      }
    },
    {
      "cell_type": "markdown",
      "source": [
        "\n",
        "**Pseudo-código:**"
      ],
      "metadata": {
        "id": "ktErA-x2ABlB"
      }
    },
    {
      "cell_type": "code",
      "execution_count": null,
      "metadata": {
        "id": "KO4KO9rA_XIT"
      },
      "outputs": [],
      "source": [
        "\"\"\"\n",
        "Inicio\n",
        "    Leer primerNumero\n",
        "    Leer segundoNumero\n",
        "    resultado = primerNumero + segundoNumero\n",
        "    Escribir resultado\n",
        "Fin\n",
        "\"\"\""
      ]
    },
    {
      "cell_type": "code",
      "source": [
        "#Asignar un valor a un objeto\n",
        "a = 20\n",
        "b = 10\n"
      ],
      "metadata": {
        "id": "3GwgEvtEsec7"
      },
      "execution_count": null,
      "outputs": []
    },
    {
      "cell_type": "code",
      "source": [
        "resultado = a + b"
      ],
      "metadata": {
        "id": "K_Sx5P6Is_-c"
      },
      "execution_count": null,
      "outputs": []
    },
    {
      "cell_type": "code",
      "source": [
        "resultado"
      ],
      "metadata": {
        "id": "2dZoJEabtwAm",
        "outputId": "feb3d9fe-a4a3-4467-e0a4-6bbe2d799749",
        "colab": {
          "base_uri": "https://localhost:8080/"
        }
      },
      "execution_count": null,
      "outputs": [
        {
          "output_type": "execute_result",
          "data": {
            "text/plain": [
              "30"
            ]
          },
          "metadata": {},
          "execution_count": 10
        }
      ]
    },
    {
      "cell_type": "markdown",
      "source": [
        "**Código:**"
      ],
      "metadata": {
        "id": "X3ydvX4kAu7h"
      }
    },
    {
      "cell_type": "code",
      "source": [
        "a = input('Ingrese el primer número: ')\n",
        "b = input('Ingrese el segundo número: ')"
      ],
      "metadata": {
        "id": "hAfr1lp4uLNz",
        "outputId": "ed4ee7d2-470a-4304-de32-3ebb61ade0e2",
        "colab": {
          "base_uri": "https://localhost:8080/"
        }
      },
      "execution_count": null,
      "outputs": [
        {
          "name": "stdout",
          "output_type": "stream",
          "text": [
            "Ingrese el primer número: 45\n"
          ]
        }
      ]
    },
    {
      "cell_type": "code",
      "source": [
        "#Este es un comentario\n",
        "#cast casteo\n",
        "a"
      ],
      "metadata": {
        "id": "rycMo4ZhupY9",
        "outputId": "f4fa017c-c6b2-4d14-8afc-054bfc041a19",
        "colab": {
          "base_uri": "https://localhost:8080/",
          "height": 35
        }
      },
      "execution_count": null,
      "outputs": [
        {
          "output_type": "execute_result",
          "data": {
            "text/plain": [
              "'45'"
            ],
            "application/vnd.google.colaboratory.intrinsic+json": {
              "type": "string"
            }
          },
          "metadata": {},
          "execution_count": 29
        }
      ]
    },
    {
      "cell_type": "code",
      "source": [
        "c = int(a)\n",
        "c"
      ],
      "metadata": {
        "id": "FE5OUfaAwdOn",
        "outputId": "f2d76d0e-2dad-424b-b340-496d033196d1",
        "colab": {
          "base_uri": "https://localhost:8080/"
        }
      },
      "execution_count": null,
      "outputs": [
        {
          "output_type": "execute_result",
          "data": {
            "text/plain": [
              "45"
            ]
          },
          "metadata": {},
          "execution_count": 28
        }
      ]
    },
    {
      "cell_type": "code",
      "source": [
        "a = int(input('Ingrese el primer número: '))\n"
      ],
      "metadata": {
        "id": "C9TO12FRxZ8Q",
        "outputId": "100ee83b-4b0d-4fdb-8798-1adfc2792f60",
        "colab": {
          "base_uri": "https://localhost:8080/"
        }
      },
      "execution_count": null,
      "outputs": [
        {
          "name": "stdout",
          "output_type": "stream",
          "text": [
            "Ingrese el primer número: 30\n"
          ]
        }
      ]
    },
    {
      "cell_type": "code",
      "source": [
        "a"
      ],
      "metadata": {
        "id": "rSNnD899xo5R",
        "outputId": "524b6de8-c9f7-436d-d018-740b18faf7df",
        "colab": {
          "base_uri": "https://localhost:8080/"
        }
      },
      "execution_count": null,
      "outputs": [
        {
          "output_type": "execute_result",
          "data": {
            "text/plain": [
              "30"
            ]
          },
          "metadata": {},
          "execution_count": 31
        }
      ]
    },
    {
      "cell_type": "code",
      "source": [
        "# Algoritmo de suma\n",
        "a = int(input('Ingrese el primer número: '))\n",
        "b = int(input('Ingrese el segundo número: '))\n",
        "resultado = a + b\n",
        "print('El resultado es: ', resultado)\n"
      ],
      "metadata": {
        "id": "CXRsWWOaCjcl",
        "outputId": "e4a5cdf7-c130-4494-8f7a-fc5ec3815f62",
        "colab": {
          "base_uri": "https://localhost:8080/"
        }
      },
      "execution_count": null,
      "outputs": [
        {
          "output_type": "stream",
          "name": "stdout",
          "text": [
            "Ingrese el primer número: 10\n",
            "Ingrese el segundo número: 12\n",
            "El resultado es:  22\n"
          ]
        }
      ]
    },
    {
      "cell_type": "markdown",
      "source": [
        "#Ejercicio 2:"
      ],
      "metadata": {
        "id": "vRz5f9r9Cj24"
      }
    },
    {
      "cell_type": "markdown",
      "source": [
        "**Convertir Grados Celsius a Fahrenheit**\n",
        "\n",
        "Algoritmo:\n",
        "\n",
        "* Obtener la temperatura en grados Celsius.\n",
        "* Convertir la temperatura a Fahrenheit usando la fórmula:\n",
        "\n",
        "<img src=\"https://media.geeksforgeeks.org/wp-content/uploads/20220817110636/FtoCformula3.jpg\" alt=\"HTML5 Icon\" width=\"300\" height=\"100\" >\n",
        "\n",
        "* Mostrar la temperatura en Fahrenheit."
      ],
      "metadata": {
        "id": "nye6e5D9Db-C"
      }
    },
    {
      "cell_type": "markdown",
      "source": [
        "**Pseudo-código:**"
      ],
      "metadata": {
        "id": "demRL1imEPst"
      }
    },
    {
      "cell_type": "code",
      "source": [
        "\"\"\"\n",
        "Inicio\n",
        "Recibir la temperatura en grados celsius\n",
        "aplicar la fórmula de conversión\n",
        "imprimir el resultado\n",
        "Fin\n",
        "\"\"\""
      ],
      "metadata": {
        "id": "0P6hICjcEUAx"
      },
      "execution_count": null,
      "outputs": []
    },
    {
      "cell_type": "markdown",
      "source": [
        "**Código:**"
      ],
      "metadata": {
        "id": "bXa53UH-ESOI"
      }
    },
    {
      "cell_type": "code",
      "source": [
        "\n",
        "temperatura_celsius = int(input('Ingrese la temperatura en celsius: '))\n",
        "temperatura_fahrenheit = temperatura_celsius*9/5 + 32\n",
        "print('La temperatura en Fahrenheit es :', temperatura_fahrenheit)\n"
      ],
      "metadata": {
        "id": "q2NlbgyLEUTv",
        "outputId": "10de9024-8c9a-4705-bc19-cbfba17d2a12",
        "colab": {
          "base_uri": "https://localhost:8080/"
        }
      },
      "execution_count": null,
      "outputs": [
        {
          "output_type": "stream",
          "name": "stdout",
          "text": [
            "Ingrese la temperatura en celsius: 30\n",
            "La temperatura en Fahrenheit es : 86.0\n"
          ]
        }
      ]
    },
    {
      "cell_type": "markdown",
      "source": [
        "#Ejercicio 3:"
      ],
      "metadata": {
        "id": "k8rphMT_DBuN"
      }
    },
    {
      "cell_type": "markdown",
      "source": [
        "**Calcular el Área de un Rectángulo**\n",
        "\n",
        "Algoritmo:\n",
        "\n",
        "* Obtener la longitud del rectángulo.\n",
        "* Obtener el ancho del rectángulo.\n",
        "* Calcular el área multiplicando la longitud por el ancho.\n",
        "* Mostrar el área."
      ],
      "metadata": {
        "id": "DJ2Y_9SEExIO"
      }
    },
    {
      "cell_type": "markdown",
      "source": [
        "**Pseudo-código:**"
      ],
      "metadata": {
        "id": "Xe3lT7n0FIWM"
      }
    },
    {
      "cell_type": "code",
      "source": [],
      "metadata": {
        "id": "UyRf86xIFIWY"
      },
      "execution_count": null,
      "outputs": []
    },
    {
      "cell_type": "markdown",
      "source": [
        "**Código:**"
      ],
      "metadata": {
        "id": "-PppYyO4FIWY"
      }
    },
    {
      "cell_type": "code",
      "source": [],
      "metadata": {
        "id": "IJvYMur8FIWY"
      },
      "execution_count": null,
      "outputs": []
    },
    {
      "cell_type": "markdown",
      "source": [
        "#Ejercicio 4:"
      ],
      "metadata": {
        "id": "bttq0JL2DDBP"
      }
    },
    {
      "cell_type": "markdown",
      "source": [
        "**Multiplicar Dos Números**\n",
        "\n",
        "Algoritmo:\n",
        "\n",
        "* Obtener dos números del usuario.\n",
        "* Multiplicar los dos números.\n",
        "* Mostrar el resultado de la multiplicación.\n"
      ],
      "metadata": {
        "id": "CJE_FRnaGSuL"
      }
    },
    {
      "cell_type": "markdown",
      "source": [
        "**Pseudo-código:**"
      ],
      "metadata": {
        "id": "nenh1ng2GaJJ"
      }
    },
    {
      "cell_type": "code",
      "source": [],
      "metadata": {
        "id": "4NcqRU8HGaJK"
      },
      "execution_count": null,
      "outputs": []
    },
    {
      "cell_type": "markdown",
      "source": [
        "**Código:**"
      ],
      "metadata": {
        "id": "6QdwbyWGGaJK"
      }
    },
    {
      "cell_type": "code",
      "source": [],
      "metadata": {
        "id": "jqOfKNIsGaJL"
      },
      "execution_count": null,
      "outputs": []
    },
    {
      "cell_type": "markdown",
      "source": [
        "#Ejercicio 5:"
      ],
      "metadata": {
        "id": "kYm5_430DEO4"
      }
    },
    {
      "cell_type": "markdown",
      "source": [
        "**Calcular el Perímetro de un Cuadrado**"
      ],
      "metadata": {
        "id": "qyF9Ig_6GhFJ"
      }
    },
    {
      "cell_type": "markdown",
      "source": [
        "Algoritmo:\n",
        "\n",
        "* Obtener la longitud de un lado del cuadrado.\n",
        "* Calcular el perímetro multiplicando la longitud del lado por cuatro.\n",
        "* Mostrar el perímetro."
      ],
      "metadata": {
        "id": "fJ02vCBIG5Ay"
      }
    },
    {
      "cell_type": "markdown",
      "source": [
        "**Pseudo-código:**"
      ],
      "metadata": {
        "id": "vYmE9dKfHFko"
      }
    },
    {
      "cell_type": "code",
      "source": [
        "#inicio\n",
        "  #leer el lado del cuadrado\n",
        "  #calcular el perimetro del cuadrado (lado*4)\n",
        "  #returnar el perimetro del cuadrado\n",
        "#fin"
      ],
      "metadata": {
        "id": "uDLjzvLUHFkp"
      },
      "execution_count": null,
      "outputs": []
    },
    {
      "cell_type": "markdown",
      "source": [
        "**Código:**"
      ],
      "metadata": {
        "id": "Ojf15UuuHFkp"
      }
    },
    {
      "cell_type": "code",
      "source": [
        "\n",
        "lado = int(input('Ingrese el tamaño del lado del cuadrado: '))\n",
        "perimetro = 4*lado\n",
        "print(f'El perímetro del cuadrado es: {perimetro}')\n"
      ],
      "metadata": {
        "id": "G_vWP_O8HFkq",
        "outputId": "192ce670-f4f8-483f-8075-f2173ec23269",
        "colab": {
          "base_uri": "https://localhost:8080/"
        }
      },
      "execution_count": null,
      "outputs": [
        {
          "output_type": "stream",
          "name": "stdout",
          "text": [
            "Ingrese el tamaño del lado del cuadrado: 12\n",
            "El perímetro del cuadrado es: 48\n"
          ]
        }
      ]
    },
    {
      "cell_type": "markdown",
      "source": [
        "#Ejercicio 6:"
      ],
      "metadata": {
        "id": "IbseiCbIDFn0"
      }
    },
    {
      "cell_type": "markdown",
      "source": [
        "**Dividir Dos Números**\n",
        "\n",
        "Algoritmo:\n",
        "\n",
        "* Obtener dos números, donde el segundo no debe ser cero.\n",
        "* Dividir el primer número por el segundo.\n",
        "* Mostrar el resultado de la división."
      ],
      "metadata": {
        "id": "2hmcZ5tUHiZ5"
      }
    },
    {
      "cell_type": "markdown",
      "source": [
        "**Pseudo-código:**"
      ],
      "metadata": {
        "id": "sZIfUucIHrL6"
      }
    },
    {
      "cell_type": "code",
      "source": [],
      "metadata": {
        "id": "iTjqtjxiHrL7"
      },
      "execution_count": null,
      "outputs": []
    },
    {
      "cell_type": "markdown",
      "source": [
        "**Código:**"
      ],
      "metadata": {
        "id": "6_NZCiOyHrL7"
      }
    },
    {
      "cell_type": "code",
      "source": [],
      "metadata": {
        "id": "KjzD3HZOHrL7"
      },
      "execution_count": null,
      "outputs": []
    },
    {
      "cell_type": "markdown",
      "source": [
        "#Ejercicio 7:"
      ],
      "metadata": {
        "id": "Hz9aLTBYDGcF"
      }
    },
    {
      "cell_type": "markdown",
      "source": [
        "**Calcular el Área de un Triángulo**\n",
        "\n",
        "Algoritmo:\n",
        "\n",
        "* Obtener la base del triángulo.\n",
        "* Obtener la altura del triángulo.\n",
        "* Calcular el área usando la fórmula:\n",
        "\n",
        "<img src=\"https://definicionesyconceptos.com/wp-content/uploads/2021/06/Area-del-triangulo-%C2%BFcomo-calcular.jpg\" alt=\"HTML5 Icon\" width=\"300\" height=\"200\" >\n",
        "\n",
        "* Mostrar el área.\n"
      ],
      "metadata": {
        "id": "K8fhtBoqI1HW"
      }
    },
    {
      "cell_type": "markdown",
      "source": [
        "**Pseudo-código:**"
      ],
      "metadata": {
        "id": "3eQM2quhKl1L"
      }
    },
    {
      "cell_type": "code",
      "source": [],
      "metadata": {
        "id": "tXB8oUaxKl1M"
      },
      "execution_count": null,
      "outputs": []
    },
    {
      "cell_type": "markdown",
      "source": [
        "**Código:**"
      ],
      "metadata": {
        "id": "nNswfr4RKl1M"
      }
    },
    {
      "cell_type": "code",
      "source": [],
      "metadata": {
        "id": "V24IQeelKl1N"
      },
      "execution_count": null,
      "outputs": []
    },
    {
      "cell_type": "markdown",
      "source": [
        "#Ejercicio 8:"
      ],
      "metadata": {
        "id": "yoHWKi3QDHdW"
      }
    },
    {
      "cell_type": "markdown",
      "source": [
        "**Concatenar Dos Cadenas**\n",
        "\n",
        "Algoritmo:\n",
        "\n",
        "* Obtener dos cadenas de texto del usuario.\n",
        "* Concatenar las dos cadenas.\n",
        "* Mostrar la cadena resultante."
      ],
      "metadata": {
        "id": "PLF2oUmVKa2Y"
      }
    },
    {
      "cell_type": "code",
      "source": [
        "'hola ' + 'John'"
      ],
      "metadata": {
        "id": "a0S6L6KRhqDC",
        "outputId": "4f67e394-a491-4836-961c-2021674207cc",
        "colab": {
          "base_uri": "https://localhost:8080/",
          "height": 35
        }
      },
      "execution_count": null,
      "outputs": [
        {
          "output_type": "execute_result",
          "data": {
            "text/plain": [
              "'hola John'"
            ],
            "application/vnd.google.colaboratory.intrinsic+json": {
              "type": "string"
            }
          },
          "metadata": {},
          "execution_count": 2
        }
      ]
    },
    {
      "cell_type": "markdown",
      "source": [
        "**Pseudo-código:**"
      ],
      "metadata": {
        "id": "W5C6p2dEKjwG"
      }
    },
    {
      "cell_type": "code",
      "source": [
        "print(14)"
      ],
      "metadata": {
        "id": "Nm59ZR7lKjwH",
        "outputId": "365f5d91-9a62-4f64-d6de-31916ee087df",
        "colab": {
          "base_uri": "https://localhost:8080/"
        }
      },
      "execution_count": null,
      "outputs": [
        {
          "output_type": "stream",
          "name": "stdout",
          "text": [
            "14\n"
          ]
        }
      ]
    },
    {
      "cell_type": "markdown",
      "source": [
        "**Código:**"
      ],
      "metadata": {
        "id": "stYESX50KjwH"
      }
    },
    {
      "cell_type": "code",
      "source": [
        "primera_cadena = input('Ingrese el primer texto: ')\n",
        "segunda_cadena = input('Ingrese el segundo texto: ')\n",
        "concatena = primera_cadena + ' ' + segunda_cadena\n",
        "print('se escribirá: concatena')"
      ],
      "metadata": {
        "id": "X4f87galKjwH",
        "outputId": "cab99298-4617-4b18-e554-8ee698ca4a72",
        "colab": {
          "base_uri": "https://localhost:8080/"
        }
      },
      "execution_count": null,
      "outputs": [
        {
          "output_type": "stream",
          "name": "stdout",
          "text": [
            "Ingrese el primer texto: a\n",
            "Ingrese el segundo texto: b\n",
            "se escribirá: concatena\n"
          ]
        }
      ]
    },
    {
      "cell_type": "code",
      "source": [
        "universidad = input(\"Ingrese la universidad en la que estudio: \")\n",
        "año = input(\"Ingrese el año de egreso: \")\n",
        "print(f\"Egresado de la universidad {universidad} en el año {año}\")"
      ],
      "metadata": {
        "id": "zYQjySoojj9H",
        "outputId": "609a979d-25cd-4960-a4e5-da5551d402df",
        "colab": {
          "base_uri": "https://localhost:8080/"
        }
      },
      "execution_count": null,
      "outputs": [
        {
          "output_type": "stream",
          "name": "stdout",
          "text": [
            "Ingrese la universidad en la que estudio: Uni\n",
            "Ingrese el año de egreso: 2015\n",
            "Egresado de la universidad Uni en el año 2015\n"
          ]
        }
      ]
    },
    {
      "cell_type": "markdown",
      "source": [
        "#Ejercicio 9:"
      ],
      "metadata": {
        "id": "JBVIn59GK9K2"
      }
    },
    {
      "cell_type": "markdown",
      "source": [
        "**Calculadora de Propinas**\n",
        "\n",
        "Algoritmo:\n",
        "\n",
        "* Obtener el monto total de la factura del usuario.\n",
        "* Preguntar al usuario el porcentaje de propina que desea dar.\n",
        "* Calcular el monto de la propina basado en el porcentaje.\n",
        "* Calcular el total general sumando la propina al monto original de la factura.\n",
        "* Mostrar el monto de la propina y el total a pagar."
      ],
      "metadata": {
        "id": "AAMXNVHQLEsn"
      }
    },
    {
      "cell_type": "markdown",
      "source": [
        "**Pseudo-código:**"
      ],
      "metadata": {
        "id": "8Je8ZEJwLV9B"
      }
    },
    {
      "cell_type": "code",
      "source": [],
      "metadata": {
        "id": "URyNV2uwLV9C"
      },
      "execution_count": null,
      "outputs": []
    },
    {
      "cell_type": "markdown",
      "source": [
        "**Código:**"
      ],
      "metadata": {
        "id": "N6ykGmAOLV9C"
      }
    },
    {
      "cell_type": "code",
      "source": [],
      "metadata": {
        "id": "hhzMUF6LLV9D"
      },
      "execution_count": null,
      "outputs": []
    },
    {
      "cell_type": "markdown",
      "source": [
        "#Ejercicio 10:"
      ],
      "metadata": {
        "id": "rvapOr1vK-T_"
      }
    },
    {
      "cell_type": "markdown",
      "source": [
        "\n",
        "**Generador de Contraseñas**\n",
        "\n",
        "Algoritmo:\n",
        "\n",
        "* Preguntar al usuario la longitud deseada para la contraseña.\n",
        "* Generar una contraseña aleatoria utilizando una combinación de letras mayúsculas, minúsculas, números y símbolos.\n",
        "* Mostrar la contraseña generada al usuario."
      ],
      "metadata": {
        "id": "vg-6eSCvLTnx"
      }
    },
    {
      "cell_type": "markdown",
      "source": [
        "**Pseudo-código:**"
      ],
      "metadata": {
        "id": "YgBxkKISLYPv"
      }
    },
    {
      "cell_type": "code",
      "source": [],
      "metadata": {
        "id": "QhFNxAX9LYPw"
      },
      "execution_count": null,
      "outputs": []
    },
    {
      "cell_type": "markdown",
      "source": [
        "**Código:**"
      ],
      "metadata": {
        "id": "lgoZ0gUOLYPw"
      }
    },
    {
      "cell_type": "code",
      "source": [
        "import string\n",
        "\n",
        "string.ascii_letters\n"
      ],
      "metadata": {
        "id": "-LJk0UNCLYPw",
        "outputId": "d141c99f-d5a6-434e-bfb1-f073b51cc8b1",
        "colab": {
          "base_uri": "https://localhost:8080/",
          "height": 35
        }
      },
      "execution_count": null,
      "outputs": [
        {
          "output_type": "execute_result",
          "data": {
            "text/plain": [
              "'abcdefghijklmnopqrstuvwxyzABCDEFGHIJKLMNOPQRSTUVWXYZ'"
            ],
            "application/vnd.google.colaboratory.intrinsic+json": {
              "type": "string"
            }
          },
          "metadata": {},
          "execution_count": 12
        }
      ]
    },
    {
      "cell_type": "code",
      "source": [
        "import random\n",
        "\n",
        "random.choice(['john', 'jose', 'eddy'])\n"
      ],
      "metadata": {
        "id": "BvcRbQ2gmzfN",
        "outputId": "77d5d8b7-d89d-4fdf-dc05-645f4eda4522",
        "colab": {
          "base_uri": "https://localhost:8080/",
          "height": 35
        }
      },
      "execution_count": null,
      "outputs": [
        {
          "output_type": "execute_result",
          "data": {
            "text/plain": [
              "'jose'"
            ],
            "application/vnd.google.colaboratory.intrinsic+json": {
              "type": "string"
            }
          },
          "metadata": {},
          "execution_count": 21
        }
      ]
    },
    {
      "cell_type": "code",
      "source": [
        "# crea una linea de código que extraiga un elemento random de la cadena de texto de ascii_letters"
      ],
      "metadata": {
        "id": "hW8zVrfVnTI6"
      },
      "execution_count": null,
      "outputs": []
    },
    {
      "cell_type": "code",
      "source": [
        "caracteres = string.ascii_letters\n",
        "contrasena = random.choice(caracteres)\n",
        "\n",
        "print(contrasena)"
      ],
      "metadata": {
        "id": "nJkpkfq_oGvE",
        "outputId": "1d52ae0e-1e44-4860-cb56-e0eefa161c9e",
        "colab": {
          "base_uri": "https://localhost:8080/"
        }
      },
      "execution_count": null,
      "outputs": [
        {
          "output_type": "stream",
          "name": "stdout",
          "text": [
            "z\n"
          ]
        }
      ]
    },
    {
      "cell_type": "code",
      "source": [],
      "metadata": {
        "id": "cU7N21ogoq6a",
        "outputId": "c1d64feb-8598-4de6-bb92-f34ad11348b0",
        "colab": {
          "base_uri": "https://localhost:8080/",
          "height": 35
        }
      },
      "execution_count": null,
      "outputs": [
        {
          "output_type": "execute_result",
          "data": {
            "text/plain": [
              "'abcdefghijklmnopqrstuvwxyzABCDEFGHIJKLMNOPQRSTUVWXYZ0123456789!\"#$%&\\'()*+,-./:;<=>?@[\\\\]^_`{|}~'"
            ],
            "application/vnd.google.colaboratory.intrinsic+json": {
              "type": "string"
            }
          },
          "metadata": {},
          "execution_count": 32
        }
      ]
    },
    {
      "cell_type": "code",
      "source": [
        "# Este programa genera una contraseña de tamaño 8 con elementos numéricos, alfabéticos y signos de puntuación\n",
        "\n",
        "caracteres = string.ascii_letters + string.digits + string.punctuation\n",
        "\n",
        "print(random.choice(caracteres) +\n",
        "      random.choice(caracteres) +\n",
        "      random.choice(caracteres) +\n",
        "      random.choice(caracteres) +\n",
        "      random.choice(caracteres) +\n",
        "      random.choice(caracteres) +\n",
        "      random.choice(caracteres) +\n",
        "      random.choice(caracteres))\n"
      ],
      "metadata": {
        "id": "ynCoVpg-oauc",
        "outputId": "2194761a-03a5-444f-c427-463da52f4db3",
        "colab": {
          "base_uri": "https://localhost:8080/"
        }
      },
      "execution_count": 38,
      "outputs": [
        {
          "output_type": "stream",
          "name": "stdout",
          "text": [
            "Cq)OEo-x\n"
          ]
        }
      ]
    },
    {
      "cell_type": "code",
      "source": [
        "random.sample(caracteres, 8)"
      ],
      "metadata": {
        "id": "ZAsx1JYBqXVS",
        "outputId": "30bdb1b0-a1b4-4d38-cb91-a4caef2738b1",
        "colab": {
          "base_uri": "https://localhost:8080/"
        }
      },
      "execution_count": null,
      "outputs": [
        {
          "output_type": "execute_result",
          "data": {
            "text/plain": [
              "['H', '.', 'f', '?', 'b', '8', '#', '9']"
            ]
          },
          "metadata": {},
          "execution_count": 51
        }
      ]
    },
    {
      "cell_type": "markdown",
      "source": [
        "#Ejercicio 11:"
      ],
      "metadata": {
        "id": "39GxEHMDK_nA"
      }
    },
    {
      "cell_type": "markdown",
      "source": [
        "**Calculadora de Edad de Mascotas en Años Humanos**\n",
        "\n",
        "Algoritmo:\n",
        "\n",
        "* Preguntar al usuario el tipo de mascota (perro o gato).\n",
        "* Obtener la edad de la mascota en años.\n",
        "* Calcular la edad equivalente en años humanos usando un factor * multiplicativo (se asume 7 para perros y 6 para gatos).\n",
        "*  Mostrar la edad de la mascota en años humanos."
      ],
      "metadata": {
        "id": "1owrR9ITLEEv"
      }
    },
    {
      "cell_type": "code",
      "source": [
        "mascota = 'perro'\n",
        "\n",
        "if mascota == 'perro':\n",
        "  print('tu mascota es un perro, felicidades')\n",
        "  print('que lindo es tener un perro')\n",
        "else:\n",
        "  print('porque no adptas un perro?')\n",
        "\n",
        "\n",
        "print('programa terminado')"
      ],
      "metadata": {
        "id": "evf4ZkJc3iiT",
        "outputId": "69050e21-c58b-422e-e456-9a1aac24b6a3",
        "colab": {
          "base_uri": "https://localhost:8080/"
        }
      },
      "execution_count": 58,
      "outputs": [
        {
          "output_type": "stream",
          "name": "stdout",
          "text": [
            "tu mascota es un perro, felicidades\n",
            "que lindo es tener un perro\n",
            "programa terminado\n"
          ]
        }
      ]
    },
    {
      "cell_type": "code",
      "source": [
        "mascota = input('Ingrese su tipo de mascota (Perro o Gato): ')\n",
        "edad = int(input('Ingrese la edad de su mascota: '))\n",
        "\n",
        "if mascota == 'Perro':\n",
        "  edad_mascota = edad*7\n",
        "else:\n",
        "  edad_mascota = edad*6\n",
        "\n",
        "print('la edad de su mascosta es: ', edad_mascota)"
      ],
      "metadata": {
        "id": "m5TPeKjj3nXC",
        "outputId": "7781fb88-7ac9-4bcd-aacc-ecb0ff3066dc",
        "colab": {
          "base_uri": "https://localhost:8080/"
        }
      },
      "execution_count": 68,
      "outputs": [
        {
          "output_type": "stream",
          "name": "stdout",
          "text": [
            "Ingrese su tipo de mascota (Perro o Gato): Perro\n",
            "Ingrese la edad de su mascota: 5\n",
            "la edad de su mascosta es:  35\n"
          ]
        }
      ]
    },
    {
      "cell_type": "markdown",
      "source": [
        "**Pseudo-código:**"
      ],
      "metadata": {
        "id": "lTbjQwFCLZ5J"
      }
    },
    {
      "cell_type": "code",
      "source": [],
      "metadata": {
        "id": "-9B3G-VPLZ5U",
        "outputId": "c5e0e034-1325-4b16-d230-37e069b0b3fd",
        "colab": {
          "base_uri": "https://localhost:8080/"
        }
      },
      "execution_count": 52,
      "outputs": [
        {
          "output_type": "execute_result",
          "data": {
            "text/plain": [
              "<function vars>"
            ]
          },
          "metadata": {},
          "execution_count": 52
        }
      ]
    },
    {
      "cell_type": "code",
      "source": [
        "# prompt: codigo para generar una multiplicacion\n",
        "\n",
        "a = 10\n",
        "b = 20\n",
        "print(a*b)\n"
      ],
      "metadata": {
        "id": "9aIkC8j35Jci"
      },
      "execution_count": null,
      "outputs": []
    },
    {
      "cell_type": "markdown",
      "source": [
        "**Código:**"
      ],
      "metadata": {
        "id": "xVeRXs58LZ5V"
      }
    },
    {
      "cell_type": "code",
      "source": [],
      "metadata": {
        "id": "1FPU9uG2LZ5V"
      },
      "execution_count": null,
      "outputs": []
    },
    {
      "cell_type": "code",
      "source": [
        "a = 2\n",
        "b = 3"
      ],
      "metadata": {
        "id": "R3KtTr_QxYWJ"
      },
      "execution_count": 39,
      "outputs": []
    },
    {
      "cell_type": "code",
      "source": [
        "a == b"
      ],
      "metadata": {
        "id": "2oM64uEjxfJA",
        "outputId": "03636575-7c96-4937-a5fb-f6df3dc21f70",
        "colab": {
          "base_uri": "https://localhost:8080/"
        }
      },
      "execution_count": 40,
      "outputs": [
        {
          "output_type": "execute_result",
          "data": {
            "text/plain": [
              "False"
            ]
          },
          "metadata": {},
          "execution_count": 40
        }
      ]
    },
    {
      "cell_type": "code",
      "source": [
        "a == 2"
      ],
      "metadata": {
        "id": "FWQuZRjgxhvo",
        "outputId": "682eb9a4-ca29-4f95-fdf1-67309f70bd43",
        "colab": {
          "base_uri": "https://localhost:8080/"
        }
      },
      "execution_count": 41,
      "outputs": [
        {
          "output_type": "execute_result",
          "data": {
            "text/plain": [
              "True"
            ]
          },
          "metadata": {},
          "execution_count": 41
        }
      ]
    },
    {
      "cell_type": "code",
      "source": [
        "a= 'Hola'\n",
        "type(a) == str"
      ],
      "metadata": {
        "id": "YgsmCy06xq5o",
        "outputId": "545fe3e7-6ad8-4ab2-825c-8087b4f3e40d",
        "colab": {
          "base_uri": "https://localhost:8080/"
        }
      },
      "execution_count": 45,
      "outputs": [
        {
          "output_type": "execute_result",
          "data": {
            "text/plain": [
              "True"
            ]
          },
          "metadata": {},
          "execution_count": 45
        }
      ]
    },
    {
      "cell_type": "code",
      "source": [
        "type(a) != string"
      ],
      "metadata": {
        "id": "gbrVkOlSzFxP",
        "outputId": "72b4e4df-f312-4fb0-80bd-b7ecac567658",
        "colab": {
          "base_uri": "https://localhost:8080/"
        }
      },
      "execution_count": 47,
      "outputs": [
        {
          "output_type": "execute_result",
          "data": {
            "text/plain": [
              "True"
            ]
          },
          "metadata": {},
          "execution_count": 47
        }
      ]
    },
    {
      "cell_type": "code",
      "source": [],
      "metadata": {
        "id": "Hbm3v2LkyfLP",
        "outputId": "072f6481-4ed9-4a9c-c0cf-caa6f697afa1",
        "colab": {
          "base_uri": "https://localhost:8080/"
        }
      },
      "execution_count": 46,
      "outputs": [
        {
          "output_type": "execute_result",
          "data": {
            "text/plain": [
              "True"
            ]
          },
          "metadata": {},
          "execution_count": 46
        }
      ]
    },
    {
      "cell_type": "code",
      "source": [
        "a= 'Hola'\n",
        "type(a) != str"
      ],
      "metadata": {
        "id": "VKE8KHqDzJBO",
        "outputId": "40dfd9be-ab3e-450f-9c3f-099f2bd17292",
        "colab": {
          "base_uri": "https://localhost:8080/"
        }
      },
      "execution_count": 51,
      "outputs": [
        {
          "output_type": "execute_result",
          "data": {
            "text/plain": [
              "False"
            ]
          },
          "metadata": {},
          "execution_count": 51
        }
      ]
    },
    {
      "cell_type": "markdown",
      "source": [
        "#Ejercicio 12:"
      ],
      "metadata": {
        "id": "DAGbYDAAP_1t"
      }
    },
    {
      "cell_type": "markdown",
      "source": [
        "**Calculadora de Interés Compuesto**\n",
        "\n",
        "Algoritmo:\n",
        "\n",
        "* Preguntar al usuario el monto inicial de la inversión.\n",
        "* Preguntar la tasa de interés anual (en porcentaje).\n",
        "* Preguntar el número de años que la inversión será mantenida.\n",
        "* Calcular el monto final usando la fórmula de interés compuesto.\n",
        "* Mostrar el monto final después de los años especificados.\n"
      ],
      "metadata": {
        "id": "zbHGgy8lQED9"
      }
    },
    {
      "cell_type": "markdown",
      "source": [
        "**Pseudo-código:**"
      ],
      "metadata": {
        "id": "S_8pekqFQSwO"
      }
    },
    {
      "cell_type": "code",
      "source": [],
      "metadata": {
        "id": "9uCCOkGl3hTb"
      },
      "execution_count": null,
      "outputs": []
    },
    {
      "cell_type": "markdown",
      "source": [
        "# Ejercicio 13:"
      ],
      "metadata": {
        "id": "ZZDR1mBbQURN"
      }
    },
    {
      "cell_type": "markdown",
      "source": [
        "**Calculadora de Calorías**\n",
        "\n",
        "Algoritmo:\n",
        "\n",
        "* Preguntar al usuario su peso en kilogramos.\n",
        "* Preguntar la duración de la actividad física en minutos.\n",
        "* Asignar un valor fijo de calorías quemadas por minuto según un promedio (ej. 8 calorías/minuto).\n",
        "* Calcular el total de calorías quemadas.\n",
        "* Mostrar las calorías totales quemadas.\n"
      ],
      "metadata": {
        "id": "xbvh-5XmQWcC"
      }
    },
    {
      "cell_type": "markdown",
      "source": [
        "**Pseudo-código:**"
      ],
      "metadata": {
        "id": "J4884mQ-Qs3W"
      }
    },
    {
      "cell_type": "code",
      "source": [],
      "metadata": {
        "id": "fVTGcp18Qs3X"
      },
      "execution_count": null,
      "outputs": []
    },
    {
      "cell_type": "markdown",
      "source": [
        "**Código:**"
      ],
      "metadata": {
        "id": "JQMMrXvZQs3X"
      }
    },
    {
      "cell_type": "code",
      "source": [],
      "metadata": {
        "id": "k_fVDjUMQs3X"
      },
      "execution_count": null,
      "outputs": []
    },
    {
      "cell_type": "markdown",
      "source": [
        "---\n",
        "\n",
        "# Gracias por completar este laboratorio!\n",
        "\n",
        "---\n"
      ],
      "metadata": {
        "id": "qfNCVQ28DOIT"
      }
    }
  ]
}